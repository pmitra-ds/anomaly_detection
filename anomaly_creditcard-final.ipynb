{
 "cells": [
  {
   "cell_type": "code",
   "execution_count": 43,
   "id": "4f2dcb10",
   "metadata": {},
   "outputs": [],
   "source": [
    "import pandas as pd\n",
    "import numpy as np\n",
    "import matplotlib.pyplot as plt\n",
    "import plotly.express as px\n",
    "import plotly.graph_objs as go\n",
    "import seaborn as sns\n",
    "import gif\n",
    "import time\n",
    "from sklearn.svm import OneClassSVM\n",
    "from sklearn.model_selection import train_test_split\n",
    "from sklearn.preprocessing import MinMaxScaler\n",
    "from sklearn.metrics import precision_recall_curve, auc, accuracy_score, classification_report\n",
    "from sklearn.ensemble import IsolationForest\n",
    "from sklearn.pipeline import Pipeline\n",
    "from sklearn.utils import resample"
   ]
  },
  {
   "cell_type": "code",
   "execution_count": 126,
   "id": "483a6dc8",
   "metadata": {},
   "outputs": [
    {
     "name": "stdout",
     "output_type": "stream",
     "text": [
      "actual fraction of fraud to valid cases= 0.002\n",
      "new fraction after sampling= 0.1\n"
     ]
    }
   ],
   "source": [
    "# Read data and preprocessing\n",
    "df = pd.read_csv('creditcard.csv')\n",
    "df.dropna(inplace= True)\n",
    "df.head()\n",
    "\n",
    "\n",
    "b=df.Class.value_counts()\n",
    "fraction = b[1]/b[0]\n",
    "\n",
    "print (f'actual fraction of fraud to valid cases= {round(fraction,3)}')\n",
    "\n",
    "# downsample majority and upsample minority in train set\\\n",
    "\n",
    "df_train,df_test = train_test_split(df,test_size=0.3,random_state=42) # split dataset into train test df and operate resampling only in train\n",
    "majority_class = df_train[df_train.Class==0]\n",
    "minority_class = df_train[df_train.Class==1]\n",
    "\n",
    "df_majority_ds = resample(majority_class, replace=False, n_samples=int(len(minority_class)*20), random_state=42) # a fraction of class 0 only to help aid the imbalance\n",
    "\n",
    "df_minority_us = resample(minority_class, replace=True, n_samples=len(minority_class)*2, random_state=42) \n",
    "\n",
    "\n",
    "df_s = pd.concat([df_majority_ds,df_minority_us]).sample(frac=1)\n",
    "\n",
    "a = df_s.Class.value_counts()\n",
    "newfrac= a[1]/a[0]\n",
    "\n",
    "print ('new fraction after sampling=',newfrac)"
   ]
  },
  {
   "cell_type": "markdown",
   "id": "0638815e",
   "metadata": {},
   "source": [
    "# Visualization "
   ]
  },
  {
   "cell_type": "code",
   "execution_count": 127,
   "id": "1e419350",
   "metadata": {
    "scrolled": false
   },
   "outputs": [],
   "source": [
    "def make_gif():\n",
    "    df[\"Class\"] = df[\"Class\"].astype(str)\n",
    "    columns = df.columns.tolist()\n",
    "    mycols = [c for c in columns if c not in [\"Class\",\"Amount\"]]\n",
    "\n",
    "\n",
    "\n",
    "    gif.options.matplotlib[\"dpi\"] = 300\n",
    "    @gif.frame\n",
    "    def get_plot(colname):\n",
    "        fig, ax = plt.subplots(figsize=(8,6))\n",
    " \n",
    "        sns.scatterplot( data=df, x=str(colname), y=\"Amount\", hue=\"Class\").set(title=f\"Amount spent vs feature {colname}(Normal=0, Fraud=1\")\n",
    "    \n",
    "    frames = []\n",
    "    for i in mycols:\n",
    "        \n",
    "        frame = get_plot(i)\n",
    "        frames.append(frame)\n",
    "    \n",
    "    \n",
    "    gif.save(frames, 'example.gif', duration=29, unit=\"s\", between=\"startend\")\n",
    "\n",
    "    \n"
   ]
  },
  {
   "cell_type": "code",
   "execution_count": 128,
   "id": "2f65207d",
   "metadata": {},
   "outputs": [],
   "source": [
    "# train test dataset\n",
    "columns = df_s.columns.tolist()\n",
    "mycols = [c for c in columns if c not in [\"Class\"]]\n",
    "X_train, X_test = df_s[mycols], df_test[mycols]\n",
    "y_train,y_test = df_s[\"Class\"],df_test[\"Class\"]"
   ]
  },
  {
   "cell_type": "markdown",
   "id": "76f46507",
   "metadata": {},
   "source": [
    "# One class SVM for classification"
   ]
  },
  {
   "cell_type": "code",
   "execution_count": 157,
   "id": "8e48cf65",
   "metadata": {},
   "outputs": [
    {
     "name": "stdout",
     "output_type": "stream",
     "text": [
      "Time taken 0.4677550792694092 s\n"
     ]
    }
   ],
   "source": [
    "#### train  one class SVM model ######\n",
    "\n",
    "# Instantiate normalisation \n",
    "nrm = MinMaxScaler()\n",
    "svm = OneClassSVM(nu=newfrac, kernel = 'rbf')\n",
    "svm_pl = Pipeline([('Normalise', nrm), ('SVM', svm)])\n",
    "\n",
    "\n",
    "start = time.time()\n",
    "svm_pl.fit(X_train)\n",
    "end = time.time()\n",
    "\n",
    "print (f'Time taken {end-start} s')\n",
    "\n",
    "\n",
    "\n"
   ]
  },
  {
   "cell_type": "code",
   "execution_count": 158,
   "id": "2daac9df",
   "metadata": {},
   "outputs": [
    {
     "name": "stdout",
     "output_type": "stream",
     "text": [
      "              precision    recall  f1-score   support\n",
      "\n",
      "           0       1.00      0.18      0.30     85307\n",
      "           1       0.00      0.92      0.00       136\n",
      "\n",
      "    accuracy                           0.18     85443\n",
      "   macro avg       0.50      0.55      0.15     85443\n",
      "weighted avg       1.00      0.18      0.30     85443\n",
      "\n",
      "Number of Fraud cases in test set 136\n",
      "Number of predicted Fraud cases 70322\n"
     ]
    }
   ],
   "source": [
    "# predict the anomaly scores for the test data\n",
    "y_scores1 = svm.score_samples(nrm.fit_transform(X_test))\n",
    "\n",
    "y_pred = svm.predict(nrm.fit_transform(X_test))\n",
    "y_pred[y_pred == 1] = 0\n",
    "y_pred[y_pred == -1] = 1\n",
    "\n",
    "print(classification_report(y_test,y_pred))\n",
    "print ('Number of Fraud cases in test set',len(y_test[y_test==1]))\n",
    "print ('Number of predicted Fraud cases',len(y_pred[y_pred==1]))"
   ]
  },
  {
   "cell_type": "markdown",
   "id": "cfeb79eb",
   "metadata": {},
   "source": [
    "# Isolation forest"
   ]
  },
  {
   "cell_type": "code",
   "execution_count": 154,
   "id": "43a74bbe",
   "metadata": {},
   "outputs": [
    {
     "name": "stdout",
     "output_type": "stream",
     "text": [
      "time taken 0.4902820587158203 s\n"
     ]
    }
   ],
   "source": [
    "start = time.time()\n",
    "clf2 = IsolationForest(n_estimators=100, max_samples=len(X_train),contamination=newfrac,random_state=42, verbose=0).fit(X_train.values)\n",
    "end = time.time()\n",
    "print (f'time taken {end-start} s') "
   ]
  },
  {
   "cell_type": "code",
   "execution_count": 155,
   "id": "b2701e0c",
   "metadata": {},
   "outputs": [
    {
     "name": "stdout",
     "output_type": "stream",
     "text": [
      "accuracy 0.9648771695750383\n",
      "              precision    recall  f1-score   support\n",
      "\n",
      "           0       1.00      0.97      0.98     85307\n",
      "           1       0.03      0.79      0.07       136\n",
      "\n",
      "    accuracy                           0.96     85443\n",
      "   macro avg       0.52      0.88      0.52     85443\n",
      "weighted avg       1.00      0.96      0.98     85443\n",
      "\n",
      "Number of Fraud cases in test set 136\n",
      "Number of predicted Fraud cases 3079\n"
     ]
    }
   ],
   "source": [
    "# predict the anomaly scores for the test data\n",
    "y_scores2 = clf2.score_samples(X_test.values)#clf2.decision_function(X_test.values)\n",
    "y_pred = clf2.predict(X_test.values)\n",
    "y_pred[y_pred == 1] = 0\n",
    "y_pred[y_pred == -1] = 1\n",
    "print('accuracy',accuracy_score(y_test,y_pred))\n",
    "print(classification_report(y_test,y_pred))\n",
    "print ('Number of Fraud cases in test set',len(y_test[y_test==1]))\n",
    "print ('Number of predicted Fraud cases',len(y_pred[y_pred==1]))"
   ]
  },
  {
   "cell_type": "code",
   "execution_count": null,
   "id": "fca583ca",
   "metadata": {},
   "outputs": [],
   "source": []
  }
 ],
 "metadata": {
  "kernelspec": {
   "display_name": "Python 3 (ipykernel)",
   "language": "python",
   "name": "python3"
  },
  "language_info": {
   "codemirror_mode": {
    "name": "ipython",
    "version": 3
   },
   "file_extension": ".py",
   "mimetype": "text/x-python",
   "name": "python",
   "nbconvert_exporter": "python",
   "pygments_lexer": "ipython3",
   "version": "3.9.6"
  }
 },
 "nbformat": 4,
 "nbformat_minor": 5
}
